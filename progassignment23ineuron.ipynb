{
 "cells": [
  {
   "cell_type": "markdown",
   "id": "e04e94b7",
   "metadata": {},
   "source": [
    "Question 1\n",
    "Create a function that takes a number as an argument and returns True or False depending on whether the number is symmetrical or not. A number is symmetrical when it is the same as its reverse.\n",
    "Examples\n",
    "is_symmetrical(7227) ➞ True\n",
    "\n",
    "is_symmetrical(12567) ➞ False\n",
    "\n",
    "is_symmetrical(44444444) ➞ True\n",
    "\n",
    "is_symmetrical(9939) ➞ False\n",
    "\n",
    "is_symmetrical(1112111) ➞ True\n",
    "\n",
    "Question 2\n",
    "Given a string of numbers separated by a comma and space, return the product of the numbers.\n",
    "Examples\n",
    "multiply_nums(\"2, 3\") ➞ 6\n",
    "\n",
    "multiply_nums(\"1, 2, 3, 4\") ➞ 24\n",
    "\n",
    "multiply_nums(\"54, 75, 453, 0\") ➞ 0\n",
    "\n",
    "multiply_nums(\"10, -2\") ➞ -20\n",
    "\n",
    "Question 3\n",
    "Create a function that squares every digit of a number.\n",
    "Examples\n",
    "square_digits(9119) ➞ 811181\n",
    "\n",
    "square_digits(2483) ➞ 416649\n",
    "\n",
    "square_digits(3212) ➞ 9414\n",
    "Notes\n",
    "The function receives an integer and must return an integer.\n",
    "\n",
    "Question 4\n",
    "Create a function that sorts a list and removes all duplicate items from it.\n",
    "Examples\n",
    "setify([1, 3, 3, 5, 5]) ➞ [1, 3, 5]\n",
    "\n",
    "setify([4, 4, 4, 4]) ➞ [4]\n",
    "\n",
    "setify([5, 7, 8, 9, 10, 15]) ➞ [5, 7, 8, 9, 10, 15]\n",
    "\n",
    "setify([3, 3, 3, 2, 1]) ➞ [1, 2, 3]\n",
    "\n",
    "Question 5\n",
    "Create a function that returns the mean of all digits.\n",
    "Examples\n",
    "mean(42) ➞ 3\n",
    "\n",
    "mean(12345) ➞ 3\n",
    "\n",
    "mean(666) ➞ 6\n",
    "Notes\n",
    "•\tThe mean of all digits is the sum of digits / how many digits there are (e.g. mean of digits in 512 is (5+1+2)/3(number of digits) = 8/3=2).\n",
    "•\tThe mean will always be an integer.\n",
    "\n"
   ]
  },
  {
   "cell_type": "code",
   "execution_count": 1,
   "id": "987fa0ef",
   "metadata": {},
   "outputs": [],
   "source": [
    "#1\n",
    "def is_symmetrical(num):\n",
    "    return str(num) == str(num)[::-1]\n"
   ]
  },
  {
   "cell_type": "code",
   "execution_count": 2,
   "id": "fc2af52e",
   "metadata": {},
   "outputs": [],
   "source": [
    "#2\n",
    "def multiply_nums(nums_str):\n",
    "    nums = [int(x) for x in nums_str.split(\", \")]\n",
    "    result = 1\n",
    "    for num in nums:\n",
    "        result *= num\n",
    "    return result\n"
   ]
  },
  {
   "cell_type": "code",
   "execution_count": 3,
   "id": "715e4166",
   "metadata": {},
   "outputs": [],
   "source": [
    "#3\n",
    "def square_digits(num):\n",
    "    num_str = str(num)\n",
    "    squared_digits = [str(int(digit) ** 2) for digit in num_str]\n",
    "    return int(\"\".join(squared_digits))\n"
   ]
  },
  {
   "cell_type": "code",
   "execution_count": 4,
   "id": "f463bc28",
   "metadata": {},
   "outputs": [],
   "source": [
    "#4\n",
    "def setify(lst):\n",
    "    return list(set(lst))\n"
   ]
  },
  {
   "cell_type": "code",
   "execution_count": 5,
   "id": "54929f19",
   "metadata": {},
   "outputs": [],
   "source": [
    "#5\n",
    "def mean(num):\n",
    "    num_str = str(num)\n",
    "    digits = [int(digit) for digit in num_str]\n",
    "    return sum(digits) // len(digits)\n"
   ]
  },
  {
   "cell_type": "code",
   "execution_count": null,
   "id": "c44b63fd",
   "metadata": {},
   "outputs": [],
   "source": []
  }
 ],
 "metadata": {
  "kernelspec": {
   "display_name": "Python 3 (ipykernel)",
   "language": "python",
   "name": "python3"
  },
  "language_info": {
   "codemirror_mode": {
    "name": "ipython",
    "version": 3
   },
   "file_extension": ".py",
   "mimetype": "text/x-python",
   "name": "python",
   "nbconvert_exporter": "python",
   "pygments_lexer": "ipython3",
   "version": "3.9.7"
  }
 },
 "nbformat": 4,
 "nbformat_minor": 5
}
