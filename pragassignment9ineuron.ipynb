{
 "cells": [
  {
   "cell_type": "markdown",
   "id": "90669fb3",
   "metadata": {},
   "source": [
    "1.\tWrite a Python program to check if the given number is a Disarium Number?\n",
    "2.\tWrite a Python program to print all disarium numbers between 1 to 100?\n",
    "3.\tWrite a Python program to check if the given number is Happy Number?\n",
    "4.\tWrite a Python program to print all happy numbers between 1 and 100?\n",
    "5.\tWrite a Python program to determine whether the given number is a Harshad Number?\n",
    "6.\tWrite a Python program to print all pronic numbers between 1 and 100?\n"
   ]
  },
  {
   "cell_type": "code",
   "execution_count": 1,
   "id": "9878d1f8",
   "metadata": {},
   "outputs": [
    {
     "name": "stdout",
     "output_type": "stream",
     "text": [
      "89 is not a Disarium Number\n"
     ]
    }
   ],
   "source": [
    "#1\n",
    "def is_disarium_number(n):\n",
    "    num_str = str(n)\n",
    "    power = len(num_str)\n",
    "    sum_of_digits = sum(int(digit) ** power for digit in num_str)\n",
    "    return sum_of_digits == n\n",
    "\n",
    "\n",
    "number = 89\n",
    "if is_disarium_number(number):\n",
    "    print(number, \"is a Disarium Number\")\n",
    "else:\n",
    "    print(number, \"is not a Disarium Number\")\n"
   ]
  },
  {
   "cell_type": "code",
   "execution_count": 2,
   "id": "4c1cfc2d",
   "metadata": {},
   "outputs": [
    {
     "name": "stdout",
     "output_type": "stream",
     "text": [
      "Disarium numbers between 1 and 100: [1, 2, 3, 4, 5, 6, 7, 8, 9]\n"
     ]
    }
   ],
   "source": [
    "#2\n",
    "def find_disarium_numbers(start, end):\n",
    "    disarium_numbers = []\n",
    "    for num in range(start, end + 1):\n",
    "        if is_disarium_number(num):\n",
    "            disarium_numbers.append(num)\n",
    "    return disarium_numbers\n",
    "\n",
    "\n",
    "disarium_numbers = find_disarium_numbers(1, 100)\n",
    "print(\"Disarium numbers between 1 and 100:\", disarium_numbers)\n"
   ]
  },
  {
   "cell_type": "code",
   "execution_count": 3,
   "id": "037eb114",
   "metadata": {},
   "outputs": [
    {
     "name": "stdout",
     "output_type": "stream",
     "text": [
      "19 is a Happy Number\n"
     ]
    }
   ],
   "source": [
    "#3\n",
    "def is_happy_number(n):\n",
    "    def get_next(num):\n",
    "        next_num = 0\n",
    "        while num > 0:\n",
    "            digit = num % 10\n",
    "            next_num += digit ** 2\n",
    "            num //= 10\n",
    "        return next_num\n",
    "    \n",
    "    seen = set()\n",
    "    while n != 1 and n not in seen:\n",
    "        seen.add(n)\n",
    "        n = get_next(n)\n",
    "    \n",
    "    return n == 1\n",
    "\n",
    "\n",
    "number = 19\n",
    "if is_happy_number(number):\n",
    "    print(number, \"is a Happy Number\")\n",
    "else:\n",
    "    print(number, \"is not a Happy Number\")\n"
   ]
  },
  {
   "cell_type": "code",
   "execution_count": 4,
   "id": "02641512",
   "metadata": {},
   "outputs": [
    {
     "name": "stdout",
     "output_type": "stream",
     "text": [
      "Happy numbers between 1 and 100: [1, 7, 10, 13, 19, 23, 28, 31, 32, 44, 49, 68, 70, 79, 82, 86, 91, 94, 97, 100]\n"
     ]
    }
   ],
   "source": [
    "#4\n",
    "def find_happy_numbers(start, end):\n",
    "    happy_numbers = []\n",
    "    for num in range(start, end + 1):\n",
    "        if is_happy_number(num):\n",
    "            happy_numbers.append(num)\n",
    "    return happy_numbers\n",
    "\n",
    "\n",
    "happy_numbers = find_happy_numbers(1, 100)\n",
    "print(\"Happy numbers between 1 and 100:\", happy_numbers)\n"
   ]
  },
  {
   "cell_type": "code",
   "execution_count": 5,
   "id": "ffb54e82",
   "metadata": {},
   "outputs": [
    {
     "name": "stdout",
     "output_type": "stream",
     "text": [
      "18 is a Harshad Number\n"
     ]
    }
   ],
   "source": [
    "#5\n",
    "def is_harshad_number(n):\n",
    "    if n <= 0:\n",
    "        return False\n",
    "    sum_of_digits = sum(int(digit) for digit in str(n))\n",
    "    return n % sum_of_digits == 0\n",
    "\n",
    "\n",
    "number = 18\n",
    "if is_harshad_number(number):\n",
    "    print(number, \"is a Harshad Number\")\n",
    "else:\n",
    "    print(number, \"is not a Harshad Number\")\n"
   ]
  },
  {
   "cell_type": "code",
   "execution_count": 6,
   "id": "75da3aeb",
   "metadata": {},
   "outputs": [
    {
     "name": "stdout",
     "output_type": "stream",
     "text": [
      "Pronic numbers between 1 and 100: [2, 6, 12, 20, 30, 42, 56, 72, 90]\n"
     ]
    }
   ],
   "source": [
    "#6\n",
    "def find_pronic_numbers(start, end):\n",
    "    pronic_numbers = []\n",
    "    for num in range(start, end + 1):\n",
    "        if num == 0:\n",
    "            continue\n",
    "        for i in range(1, int(num ** 0.5) + 1):\n",
    "            if i * (i + 1) == num:\n",
    "                pronic_numbers.append(num)\n",
    "                break\n",
    "    return pronic_numbers\n",
    "\n",
    "\n",
    "pronic_numbers = find_pronic_numbers(1, 100)\n",
    "print(\"Pronic numbers between 1 and 100:\", pronic_numbers)\n"
   ]
  },
  {
   "cell_type": "code",
   "execution_count": null,
   "id": "86b63a5d",
   "metadata": {},
   "outputs": [],
   "source": []
  }
 ],
 "metadata": {
  "kernelspec": {
   "display_name": "Python 3 (ipykernel)",
   "language": "python",
   "name": "python3"
  },
  "language_info": {
   "codemirror_mode": {
    "name": "ipython",
    "version": 3
   },
   "file_extension": ".py",
   "mimetype": "text/x-python",
   "name": "python",
   "nbconvert_exporter": "python",
   "pygments_lexer": "ipython3",
   "version": "3.9.7"
  }
 },
 "nbformat": 4,
 "nbformat_minor": 5
}
