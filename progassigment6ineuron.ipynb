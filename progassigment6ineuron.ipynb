{
 "cells": [
  {
   "cell_type": "markdown",
   "id": "e2e9f86e",
   "metadata": {},
   "source": [
    "1.\tWrite a Python Program to Display Fibonacci Sequence Using Recursion?\n",
    "2.\tWrite a Python Program to Find Factorial of Number Using Recursion?\n",
    "3.\tWrite a Python Program to calculate your Body Mass Index?\n",
    "4.\tWrite a Python Program to calculate the natural logarithm of any number?\n",
    "5.\tWrite a Python Program for cube sum of first n natural numbers?\n"
   ]
  },
  {
   "cell_type": "code",
   "execution_count": 1,
   "id": "da0c1aa5",
   "metadata": {},
   "outputs": [
    {
     "name": "stdout",
     "output_type": "stream",
     "text": [
      "Enter the number of terms in the Fibonacci sequence: 23\n",
      "Fibonacci Sequence:\n",
      "[0, 1, 1, 2, 3, 5, 8, 13, 21, 34, 55, 89, 144, 233, 377, 610, 987, 1597, 2584, 4181, 6765, 10946, 17711]\n"
     ]
    }
   ],
   "source": [
    "#1\n",
    "def fibonacci(n):\n",
    "    if n <= 0:\n",
    "        return []\n",
    "    elif n == 1:\n",
    "        return [0]\n",
    "    elif n == 2:\n",
    "        return [0, 1]\n",
    "    else:\n",
    "        fib_sequence = fibonacci(n - 1)\n",
    "        fib_sequence.append(fib_sequence[-1] + fib_sequence[-2])\n",
    "        return fib_sequence\n",
    "\n",
    "\n",
    "n = int(input(\"Enter the number of terms in the Fibonacci sequence: \"))\n",
    "\n",
    "if n <= 0:\n",
    "    print(\"Please enter a positive integer.\")\n",
    "else:\n",
    "    fib_sequence = fibonacci(n)\n",
    "    print(\"Fibonacci Sequence:\")\n",
    "    print(fib_sequence)\n"
   ]
  },
  {
   "cell_type": "code",
   "execution_count": 2,
   "id": "aabed2eb",
   "metadata": {},
   "outputs": [
    {
     "name": "stdout",
     "output_type": "stream",
     "text": [
      "Enter a non-negative integer: 56\n",
      "The factorial of 56 is 710998587804863451854045647463724949736497978881168458687447040000000000000\n"
     ]
    }
   ],
   "source": [
    "#2\n",
    "def factorial(n):\n",
    "    if n == 0:\n",
    "        return 1\n",
    "    else:\n",
    "        return n * factorial(n - 1)\n",
    "\n",
    "num = int(input(\"Enter a non-negative integer: \"))\n",
    "\n",
    "if num < 0:\n",
    "    print(\"Factorial is not defined for negative numbers.\")\n",
    "else:\n",
    "    result = factorial(num)\n",
    "    print(f\"The factorial of {num} is {result}\")\n"
   ]
  },
  {
   "cell_type": "code",
   "execution_count": 3,
   "id": "7a7ca30e",
   "metadata": {},
   "outputs": [
    {
     "name": "stdout",
     "output_type": "stream",
     "text": [
      "Enter your weight in kilograms: 48\n",
      "Enter your height in meters: 1.58\n",
      "Your BMI is: 19.23\n",
      "Your weight is normal.\n"
     ]
    }
   ],
   "source": [
    "#3\n",
    "weight_kg = float(input(\"Enter your weight in kilograms: \"))\n",
    "height_m = float(input(\"Enter your height in meters: \"))\n",
    "bmi = weight_kg / (height_m * height_m)\n",
    "print(f\"Your BMI is: {bmi:.2f}\")\n",
    "if bmi < 18.5:\n",
    "    print(\"You are underweight.\")\n",
    "elif 18.5 <= bmi < 24.9:\n",
    "    print(\"Your weight is normal.\")\n",
    "elif 25 <= bmi < 29.9:\n",
    "    print(\"You are overweight.\")\n",
    "else:\n",
    "    print(\"You are obese.\")\n"
   ]
  },
  {
   "cell_type": "code",
   "execution_count": 4,
   "id": "b8f4b154",
   "metadata": {},
   "outputs": [
    {
     "name": "stdout",
     "output_type": "stream",
     "text": [
      "Enter a positive number: 45\n",
      "The natural logarithm of 45.0 is 3.8067\n"
     ]
    }
   ],
   "source": [
    "#4\n",
    "import math\n",
    "\n",
    "\n",
    "number = float(input(\"Enter a positive number: \"))\n",
    "if number <= 0:\n",
    "    print(\"Please enter a positive number.\")\n",
    "else:\n",
    "    ln_result = math.log(number)\n",
    "    print(f\"The natural logarithm of {number} is {ln_result:.4f}\")\n"
   ]
  },
  {
   "cell_type": "code",
   "execution_count": 5,
   "id": "3377490b",
   "metadata": {},
   "outputs": [
    {
     "name": "stdout",
     "output_type": "stream",
     "text": [
      "Enter a positive integer (n): 34\n",
      "The cube sum of the first 34 natural numbers is: 354025\n"
     ]
    }
   ],
   "source": [
    "#5\n",
    "n = int(input(\"Enter a positive integer (n): \"))\n",
    "\n",
    "if n <= 0:\n",
    "    print(\"Please enter a positive integer.\")\n",
    "else:\n",
    "    cube_sum = sum(i**3 for i in range(1, n + 1))\n",
    "    print(f\"The cube sum of the first {n} natural numbers is: {cube_sum}\")\n"
   ]
  },
  {
   "cell_type": "code",
   "execution_count": null,
   "id": "4c39c785",
   "metadata": {},
   "outputs": [],
   "source": []
  }
 ],
 "metadata": {
  "kernelspec": {
   "display_name": "Python 3 (ipykernel)",
   "language": "python",
   "name": "python3"
  },
  "language_info": {
   "codemirror_mode": {
    "name": "ipython",
    "version": 3
   },
   "file_extension": ".py",
   "mimetype": "text/x-python",
   "name": "python",
   "nbconvert_exporter": "python",
   "pygments_lexer": "ipython3",
   "version": "3.9.7"
  }
 },
 "nbformat": 4,
 "nbformat_minor": 5
}
