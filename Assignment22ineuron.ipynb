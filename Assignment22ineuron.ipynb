{
 "cells": [
  {
   "cell_type": "code",
   "execution_count": 2,
   "id": "e721bc0e",
   "metadata": {},
   "outputs": [
    {
     "name": "stdout",
     "output_type": "stream",
     "text": [
      "iNeuron\n"
     ]
    }
   ],
   "source": [
    "#1. What is the result of the code, and explain?\n",
    "\n",
    "\n",
    "X = 'iNeuron'\n",
    "def func():\n",
    "    print(X)\n",
    "\n",
    "\n",
    "func()\n",
    "\n",
    "#explaination\n",
    "#The function func is able to access and print the value of X from the global scope because global variables\n",
    "#are accessible from within functions unless there's a local variable with the same name shadowing it."
   ]
  },
  {
   "cell_type": "code",
   "execution_count": 3,
   "id": "d4de3449",
   "metadata": {},
   "outputs": [
    {
     "name": "stdout",
     "output_type": "stream",
     "text": [
      "Object `explain` not found.\n",
      "iNeuron\n"
     ]
    }
   ],
   "source": [
    "#2. What is the result of the code, and explain?\n",
    "\n",
    "\n",
    "X = 'iNeuron'\n",
    "def func():\n",
    "    X = 'NI!'\n",
    "\n",
    "func()\n",
    "print(X)\n",
    "#explaination\n",
    "#The local variable X defined inside the func function doesn't affect the value of the global variable X, and they are two separate variables\n",
    "#with the same name but different scopes"
   ]
  },
  {
   "cell_type": "code",
   "execution_count": 4,
   "id": "22197bf7",
   "metadata": {},
   "outputs": [
    {
     "name": "stdout",
     "output_type": "stream",
     "text": [
      "Object `why` not found.\n",
      "iNeuron\n",
      "iNeuron\n"
     ]
    }
   ],
   "source": [
    "#3. What does this code print, and why?\n",
    "\n",
    "\n",
    "X = 'iNeuron'\n",
    "def func():\n",
    "    X = 'NI'\n",
    "print(X)\n",
    "\n",
    "\n",
    "func()\n",
    "print(X)\n",
    "#explaination\n",
    "#The first print(X) prints the global variable X, which is 'iNeuron'. The second print(X) also prints the global variable X, which remains 'iNeuron' because the local variable X defined within the func function has a different scope and does not modify the global variable."
   ]
  },
  {
   "cell_type": "code",
   "execution_count": 5,
   "id": "29e6d9b3",
   "metadata": {},
   "outputs": [
    {
     "name": "stdout",
     "output_type": "stream",
     "text": [
      "NI\n"
     ]
    }
   ],
   "source": [
    "#4. What output does this code produce? Why?\n",
    "\n",
    "\n",
    "X = 'iNeuron'\n",
    "def func():\n",
    "    global X\n",
    "    X = 'NI'\n",
    "\n",
    "\n",
    "func()\n",
    "print(X)\n",
    "#explaination\n",
    "#The global keyword inside the func function allows it to modify the global variable X, and as a result, the value of X becomes 'NI', which is printed when print(X) is called outside the function."
   ]
  },
  {
   "cell_type": "code",
   "execution_count": 6,
   "id": "fa61395d",
   "metadata": {},
   "outputs": [
    {
     "name": "stdout",
     "output_type": "stream",
     "text": [
      "iNeuron\n"
     ]
    },
    {
     "data": {
      "text/plain": [
       "'iNeuron'"
      ]
     },
     "execution_count": 6,
     "metadata": {},
     "output_type": "execute_result"
    }
   ],
   "source": [
    "#5. What about this code—what’s the output, and why?\n",
    "\n",
    "\n",
    "X = 'iNeuron'\n",
    "def func():\n",
    "    X = 'NI'\n",
    "def nested():\n",
    "    print(X)\n",
    "nested()\n",
    "\n",
    "\n",
    "func()\n",
    "X\n",
    "\n",
    "#explaination\n",
    "#The nested function prints the global variable X, and the local variable X defined within the func function does not affect the global variable."
   ]
  },
  {
   "cell_type": "code",
   "execution_count": null,
   "id": "849526b6",
   "metadata": {},
   "outputs": [],
   "source": [
    "#6. How about this code: what is its output in Python 3, and explain?\n",
    "\n",
    "\n",
    "def func():\n",
    "    X = 'NI'\n",
    "def nested():\n",
    "    nonlocal X\n",
    "    X = 'Spam'\n",
    "nested()\n",
    "print(X)\n",
    "\n",
    "\n",
    "func()\n",
    "\n",
    "#explaination\n",
    "#The nonlocal keyword allows you to modify a variable in an enclosing (non-global) scope, in this case, the X variable defined in func."
   ]
  }
 ],
 "metadata": {
  "kernelspec": {
   "display_name": "Python 3 (ipykernel)",
   "language": "python",
   "name": "python3"
  },
  "language_info": {
   "codemirror_mode": {
    "name": "ipython",
    "version": 3
   },
   "file_extension": ".py",
   "mimetype": "text/x-python",
   "name": "python",
   "nbconvert_exporter": "python",
   "pygments_lexer": "ipython3",
   "version": "3.9.7"
  }
 },
 "nbformat": 4,
 "nbformat_minor": 5
}
