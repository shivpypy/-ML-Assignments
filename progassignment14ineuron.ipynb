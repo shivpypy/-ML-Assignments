{
 "cells": [
  {
   "cell_type": "markdown",
   "id": "b3cb6207",
   "metadata": {},
   "source": [
    "Question 1:\n",
    "\n",
    "Define a class with a generator which can iterate the numbers, which are divisible by 7, between a given range 0 and n.\n",
    "\n",
    "Question 2:\n",
    "Write a program to compute the frequency of the words from the input. The output should output after sorting the key alphanumerically. \n",
    "\n",
    "Suppose the following input is supplied to the program:\n",
    "\n",
    "New to Python or choosing between Python 2 and Python 3? Read Python 2 or Python 3.\n",
    "\n",
    "Then, the output should be:\n",
    "\n",
    "2:2\n",
    "\n",
    "3.:1\n",
    "\n",
    "3?:1\n",
    "\n",
    "New:1\n",
    "\n",
    "Python:5\n",
    "\n",
    "Read:1\n",
    "\n",
    "and:1\n",
    "\n",
    "between:1\n",
    "\n",
    "choosing:1\n",
    "\n",
    "or:2\n",
    "\n",
    "to:1\n",
    "\n",
    "Question 3:\n",
    "\n",
    "\n",
    "\n",
    "Define a class Person and its two child classes: Male and Female. All classes have a method \"getGender\" which can print \"Male\" for Male class and \"Female\" for Female class.\n",
    "\n",
    "Question 4:\n",
    "Please write a program to generate all sentences where subject is in [\"I\", \"You\"] and verb is in [\"Play\", \"Love\"] and the object is in [\"Hockey\",\"Football\"].\n",
    "\n",
    "\n",
    "Question 5:\n",
    "Please write a program to compress and decompress the string \"hello world!hello world!hello world!hello world!\".\n",
    "\n",
    "Question 6:\n",
    "Please write a binary search function which searches an item in a sorted list. The function should return the index of element to be searched in the list.\n"
   ]
  },
  {
   "cell_type": "code",
   "execution_count": 1,
   "id": "df67bf20",
   "metadata": {},
   "outputs": [
    {
     "name": "stdout",
     "output_type": "stream",
     "text": [
      "0\n",
      "7\n",
      "14\n",
      "21\n",
      "28\n",
      "35\n",
      "42\n",
      "49\n"
     ]
    }
   ],
   "source": [
    "#1\n",
    "class DivisibleBy7:\n",
    "    def __init__(self, n):\n",
    "        self.n = n\n",
    "\n",
    "    def generate_divisible_by_7(self):\n",
    "        for i in range(self.n + 1):\n",
    "            if i % 7 == 0:\n",
    "                yield i\n",
    "\n",
    "n = 50  \n",
    "divisible_by_7 = DivisibleBy7(n)\n",
    "for num in divisible_by_7.generate_divisible_by_7():\n",
    "    print(num)\n"
   ]
  },
  {
   "cell_type": "code",
   "execution_count": 2,
   "id": "983ea172",
   "metadata": {},
   "outputs": [
    {
     "name": "stdout",
     "output_type": "stream",
     "text": [
      "Enter a sentence: hi hello how are you\n",
      "are:1\n",
      "hello:1\n",
      "hi:1\n",
      "how:1\n",
      "you:1\n"
     ]
    }
   ],
   "source": [
    "#2\n",
    "from collections import defaultdict\n",
    "\n",
    "input_text = input(\"Enter a sentence: \")\n",
    "words = input_text.split()\n",
    "\n",
    "word_frequency = defaultdict(int)\n",
    "\n",
    "for word in words:\n",
    "    word_frequency[word] += 1\n",
    "\n",
    "sorted_word_frequency = sorted(word_frequency.items())\n",
    "\n",
    "for word, frequency in sorted_word_frequency:\n",
    "    print(f\"{word}:{frequency}\")\n"
   ]
  },
  {
   "cell_type": "code",
   "execution_count": 3,
   "id": "1b7fb0ef",
   "metadata": {},
   "outputs": [
    {
     "name": "stdout",
     "output_type": "stream",
     "text": [
      "Male\n",
      "Female\n"
     ]
    }
   ],
   "source": [
    "#3\n",
    "class Person:\n",
    "    def getGender(self):\n",
    "        return \"Unknown\"\n",
    "\n",
    "class Male(Person):\n",
    "    def getGender(self):\n",
    "        return \"Male\"\n",
    "\n",
    "class Female(Person):\n",
    "    def getGender(self):\n",
    "        return \"Female\"\n",
    "\n",
    "male = Male()\n",
    "female = Female()\n",
    "\n",
    "print(male.getGender())\n",
    "print(female.getGender())\n"
   ]
  },
  {
   "cell_type": "code",
   "execution_count": 4,
   "id": "71bbdb7e",
   "metadata": {},
   "outputs": [
    {
     "name": "stdout",
     "output_type": "stream",
     "text": [
      "I Play Hockey\n",
      "I Play Football\n",
      "I Love Hockey\n",
      "I Love Football\n",
      "You Play Hockey\n",
      "You Play Football\n",
      "You Love Hockey\n",
      "You Love Football\n"
     ]
    }
   ],
   "source": [
    "#4\n",
    "subjects = [\"I\", \"You\"]\n",
    "verbs = [\"Play\", \"Love\"]\n",
    "objects = [\"Hockey\", \"Football\"]\n",
    "\n",
    "sentences = [f\"{subject} {verb} {object}\" for subject in subjects for verb in verbs for object in objects]\n",
    "\n",
    "for sentence in sentences:\n",
    "    print(sentence)\n"
   ]
  },
  {
   "cell_type": "code",
   "execution_count": 5,
   "id": "71822248",
   "metadata": {},
   "outputs": [
    {
     "name": "stdout",
     "output_type": "stream",
     "text": [
      "Compressed Text: b'x\\x9c\\xcbH\\xcd\\xc9\\xc9W(\\xcf/\\xcaIQ\\xcc \\x82\\r\\x00\\xbd[\\x11\\xf5'\n",
      "Decompressed Text: hello world!hello world!hello world!hello world!\n"
     ]
    }
   ],
   "source": [
    "#5\n",
    "import zlib\n",
    "\n",
    "text = \"hello world!hello world!hello world!hello world!\"\n",
    "compressed_text = zlib.compress(text.encode(\"utf-8\"))\n",
    "decompressed_text = zlib.decompress(compressed_text)\n",
    "\n",
    "print(\"Compressed Text:\", compressed_text)\n",
    "print(\"Decompressed Text:\", decompressed_text.decode(\"utf-8\"))\n"
   ]
  },
  {
   "cell_type": "code",
   "execution_count": 6,
   "id": "32cf4007",
   "metadata": {},
   "outputs": [
    {
     "name": "stdout",
     "output_type": "stream",
     "text": [
      "Element found at index 4\n"
     ]
    }
   ],
   "source": [
    "#6\n",
    "def binary_search(sorted_list, item):\n",
    "    left = 0\n",
    "    right = len(sorted_list) - 1\n",
    "\n",
    "    while left <= right:\n",
    "        mid = (left + right) // 2\n",
    "        if sorted_list[mid] == item:\n",
    "            return mid\n",
    "        elif sorted_list[mid] < item:\n",
    "            left = mid + 1\n",
    "        else:\n",
    "            right = mid - 1\n",
    "\n",
    "    return -1\n",
    "\n",
    "sorted_list = [1, 2, 3, 4, 5, 6, 7, 8, 9, 10] \n",
    "item_to_search = 5  \n",
    "result = binary_search(sorted_list, item_to_search)\n",
    "\n",
    "if result != -1:\n",
    "    print(f\"Element found at index {result}\")\n",
    "else:\n",
    "    print(\"Element not found in the list\")\n"
   ]
  },
  {
   "cell_type": "code",
   "execution_count": null,
   "id": "3e4afdbb",
   "metadata": {},
   "outputs": [],
   "source": []
  }
 ],
 "metadata": {
  "kernelspec": {
   "display_name": "Python 3 (ipykernel)",
   "language": "python",
   "name": "python3"
  },
  "language_info": {
   "codemirror_mode": {
    "name": "ipython",
    "version": 3
   },
   "file_extension": ".py",
   "mimetype": "text/x-python",
   "name": "python",
   "nbconvert_exporter": "python",
   "pygments_lexer": "ipython3",
   "version": "3.9.7"
  }
 },
 "nbformat": 4,
 "nbformat_minor": 5
}
