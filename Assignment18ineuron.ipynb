{
 "cells": [
  {
   "cell_type": "markdown",
   "id": "b6c39dc8",
   "metadata": {},
   "source": [
    "Assignment-18\n",
    "1. Create a zoo.py file first. Define the hours() function, which prints the string 'Open 9-5 daily'. Then, use the interactive interpreter to import the zoo module and call its hours() function.\n",
    "2. In the interactive interpreter, import the zoo module as menagerie and call its hours() function.\n",
    "3. Using the interpreter, explicitly import and call the hours() function from zoo.\n",
    "4. Import the hours() function as info and call it.\n",
    "5. Create a plain dictionary with the key-value pairs 'a': 1, 'b': 2, and 'c': 3, and print it out.\n",
    "6.Make an OrderedDict called fancy from the same pairs listed in 5 and print it. Did it print in the same order as plain?\n",
    "7. Make a default dictionary called dict_of_lists and pass it the argument list. Make the list dict_of_lists['a'] and append the value 'something for a' to it in one assignment. Print dict_of_lists['a'].\n",
    "\n"
   ]
  },
  {
   "cell_type": "code",
   "execution_count": 1,
   "id": "d61282d1",
   "metadata": {},
   "outputs": [],
   "source": [
    "#1\n",
    "# zoo.py\n",
    "\n",
    "def hours():\n",
    "    print('Open 9-5 daily')\n"
   ]
  },
  {
   "cell_type": "code",
   "execution_count": null,
   "id": "87d3aa3c",
   "metadata": {},
   "outputs": [],
   "source": [
    "import zoo\n",
    "zoo.hours()\n",
    "Open 9-5 daily"
   ]
  },
  {
   "cell_type": "code",
   "execution_count": null,
   "id": "5976c538",
   "metadata": {},
   "outputs": [],
   "source": [
    "#2\n",
    "import zoo as menagerie\n",
    "menagerie.hours()\n",
    "Open 9-5 daily"
   ]
  },
  {
   "cell_type": "code",
   "execution_count": null,
   "id": "7ad9bdf4",
   "metadata": {},
   "outputs": [],
   "source": [
    "#3\n",
    "from zoo import hours\n",
    "hours()\n",
    "\n",
    "#o/p=Open 9-5"
   ]
  },
  {
   "cell_type": "code",
   "execution_count": null,
   "id": "6b2ac953",
   "metadata": {},
   "outputs": [],
   "source": [
    "#4\n",
    "from zoo import hours as info\n",
    "info()"
   ]
  },
  {
   "cell_type": "code",
   "execution_count": null,
   "id": "be28aca6",
   "metadata": {},
   "outputs": [],
   "source": [
    "#5\n",
    "my_dict = {'a': 1, 'b': 2, 'c': 3}\n",
    "print(my_dict)\n",
    "\n"
   ]
  },
  {
   "cell_type": "code",
   "execution_count": null,
   "id": "39707b8f",
   "metadata": {},
   "outputs": [],
   "source": [
    "#6\n",
    "from collections import OrderedDict\n",
    "\n",
    "fancy = OrderedDict([('a', 1), ('b', 2), ('c', 3)])\n",
    "print(fancy)\n"
   ]
  },
  {
   "cell_type": "code",
   "execution_count": null,
   "id": "572ba639",
   "metadata": {},
   "outputs": [],
   "source": [
    "#7\n",
    "from collections import defaultdict\n",
    "dict_of_lists = defaultdict(list)\n",
    "dict_of_lists['a'].append('something for a')\n",
    "\n",
    "print(dict_of_lists['a'])\n"
   ]
  }
 ],
 "metadata": {
  "kernelspec": {
   "display_name": "Python 3 (ipykernel)",
   "language": "python",
   "name": "python3"
  },
  "language_info": {
   "codemirror_mode": {
    "name": "ipython",
    "version": 3
   },
   "file_extension": ".py",
   "mimetype": "text/x-python",
   "name": "python",
   "nbconvert_exporter": "python",
   "pygments_lexer": "ipython3",
   "version": "3.9.7"
  }
 },
 "nbformat": 4,
 "nbformat_minor": 5
}
