{
 "cells": [
  {
   "cell_type": "markdown",
   "id": "48c6589a",
   "metadata": {},
   "source": [
    "1.\tWrite a Python program to find words which are greater than given length k?\n",
    "2.\tWrite a Python program for removing i-th character from a string?\n",
    "3.\tWrite a Python program to split and join a string?\n",
    "4.\tWrite a Python to check if a given string is binary string or not?\n",
    "5.\tWrite a Python program to find uncommon words from two Strings?\n",
    "6.\tWrite a Python to find all duplicate characters in string?\n",
    "7.\tWrite a Python Program to check if a string contains any special character?\n"
   ]
  },
  {
   "cell_type": "code",
   "execution_count": 1,
   "id": "8a9e528b",
   "metadata": {},
   "outputs": [
    {
     "name": "stdout",
     "output_type": "stream",
     "text": [
      "Words greater than length 4 : ['sample', 'sentence', 'words', 'varying', 'lengths']\n"
     ]
    }
   ],
   "source": [
    "#1\n",
    "def find_words_greater_than_length(text, k):\n",
    "    words = text.split()\n",
    "    result = [word for word in words if len(word) > k]\n",
    "    return result\n",
    "\n",
    "text = \"This is a sample sentence with some words of varying lengths\"\n",
    "k = 4\n",
    "long_words = find_words_greater_than_length(text, k)\n",
    "print(\"Words greater than length\", k, \":\", long_words)\n"
   ]
  },
  {
   "cell_type": "code",
   "execution_count": 2,
   "id": "b28307f0",
   "metadata": {},
   "outputs": [
    {
     "name": "stdout",
     "output_type": "stream",
     "text": [
      "String after removing the 5 th character: Hello World!\n"
     ]
    }
   ],
   "source": [
    "#2\n",
    "def remove_ith_character(text, i):\n",
    "    if 0 <= i < len(text):\n",
    "        return text[:i] + text[i+1:]\n",
    "    else:\n",
    "        return text\n",
    "\n",
    "input_string = \"Hello, World!\"\n",
    "i = 5\n",
    "new_string = remove_ith_character(input_string, i)\n",
    "print(\"String after removing the\", i, \"th character:\", new_string)\n"
   ]
  },
  {
   "cell_type": "code",
   "execution_count": 3,
   "id": "d3c49346",
   "metadata": {},
   "outputs": [
    {
     "name": "stdout",
     "output_type": "stream",
     "text": [
      "Original string: This is a sample sentence\n",
      "String after split and join: This is a sample sentence\n"
     ]
    }
   ],
   "source": [
    "#3\n",
    "def split_and_join(text):\n",
    "    words = text.split()\n",
    "    new_text = \" \".join(words)\n",
    "    return new_text\n",
    "\n",
    "input_string = \"This is a sample sentence\"\n",
    "split_joined_string = split_and_join(input_string)\n",
    "print(\"Original string:\", input_string)\n",
    "print(\"String after split and join:\", split_joined_string)\n"
   ]
  },
  {
   "cell_type": "code",
   "execution_count": 4,
   "id": "8fb2ae40",
   "metadata": {},
   "outputs": [
    {
     "name": "stdout",
     "output_type": "stream",
     "text": [
      "101010101 is a binary string.\n"
     ]
    }
   ],
   "source": [
    "#4\n",
    "def is_binary_string(text):\n",
    "    binary_set = {'0', '1'}\n",
    "    return all(char in binary_set for char in text)\n",
    "\n",
    "input_string = \"101010101\"\n",
    "if is_binary_string(input_string):\n",
    "    print(input_string, \"is a binary string.\")\n",
    "else:\n",
    "    print(input_string, \"is not a binary string.\")\n"
   ]
  },
  {
   "cell_type": "code",
   "execution_count": 5,
   "id": "f879673e",
   "metadata": {},
   "outputs": [
    {
     "name": "stdout",
     "output_type": "stream",
     "text": [
      "Uncommon words: ['first', 'second']\n"
     ]
    }
   ],
   "source": [
    "#5\n",
    "def find_uncommon_words(str1, str2):\n",
    "    words1 = set(str1.split())\n",
    "    words2 = set(str2.split())\n",
    "    uncommon_words = words1.symmetric_difference(words2)\n",
    "    return list(uncommon_words)\n",
    "\n",
    "string1 = \"This is the first string.\"\n",
    "string2 = \"This is the second string.\"\n",
    "uncommon = find_uncommon_words(string1, string2)\n",
    "print(\"Uncommon words:\", uncommon)\n"
   ]
  },
  {
   "cell_type": "code",
   "execution_count": 6,
   "id": "cce49bb7",
   "metadata": {},
   "outputs": [
    {
     "name": "stdout",
     "output_type": "stream",
     "text": [
      "Duplicate characters: ['r', 'g', 'm']\n"
     ]
    }
   ],
   "source": [
    "#6\n",
    "def find_duplicate_characters(text):\n",
    "    duplicates = []\n",
    "    for char in text:\n",
    "        if text.count(char) > 1 and char not in duplicates:\n",
    "            duplicates.append(char)\n",
    "    return duplicates\n",
    "\n",
    "input_string = \"programming\"\n",
    "duplicate_chars = find_duplicate_characters(input_string)\n",
    "print(\"Duplicate characters:\", duplicate_chars)\n"
   ]
  },
  {
   "cell_type": "code",
   "execution_count": 7,
   "id": "6ed7874c",
   "metadata": {},
   "outputs": [
    {
     "name": "stdout",
     "output_type": "stream",
     "text": [
      "Hello, World! contains special characters.\n"
     ]
    }
   ],
   "source": [
    "#7\n",
    "import string\n",
    "\n",
    "def contains_special_character(text):\n",
    "    special_chars = set(string.punctuation)\n",
    "    return any(char in special_chars for char in text)\n",
    "\n",
    "input_string = \"Hello, World!\"\n",
    "if contains_special_character(input_string):\n",
    "    print(input_string, \"contains special characters.\")\n",
    "else:\n",
    "    print(input_string, \"does not contain special characters.\")\n"
   ]
  },
  {
   "cell_type": "code",
   "execution_count": null,
   "id": "4281518d",
   "metadata": {},
   "outputs": [],
   "source": []
  }
 ],
 "metadata": {
  "kernelspec": {
   "display_name": "Python 3 (ipykernel)",
   "language": "python",
   "name": "python3"
  },
  "language_info": {
   "codemirror_mode": {
    "name": "ipython",
    "version": 3
   },
   "file_extension": ".py",
   "mimetype": "text/x-python",
   "name": "python",
   "nbconvert_exporter": "python",
   "pygments_lexer": "ipython3",
   "version": "3.9.7"
  }
 },
 "nbformat": 4,
 "nbformat_minor": 5
}
