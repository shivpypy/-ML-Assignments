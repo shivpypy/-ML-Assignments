{
 "cells": [
  {
   "cell_type": "markdown",
   "id": "c2ccd0bd",
   "metadata": {},
   "source": [
    "1. Add the current date to the text file today.txt as a string.\n",
    "2. Read the text file today.txt into the string today_string\n",
    "3. Parse the date from today_string.\n",
    "4. List the files in your current directory\n",
    "5. Create a list of all of the files in your parent directory (minimum five files should be available).\n",
    "6. Use multiprocessing to create three separate processes. Make each one wait a random number of seconds between one and five, print the current time, and then exit.\n",
    "7. Create a date object of your day of birth.\n",
    "8. What day of the week was your day of birth?\n",
    "9. When will you be (or when were you) 10,000 days old?\n",
    "\n"
   ]
  },
  {
   "cell_type": "code",
   "execution_count": null,
   "id": "a3c75df3",
   "metadata": {},
   "outputs": [],
   "source": [
    "#1\n",
    "current_date_str = datetime.now().strftime(\"%Y-%m-%d\")\n",
    "with open(\"today.txt\", \"w\") as file:\n",
    "    file.write(current_date_str)\n"
   ]
  },
  {
   "cell_type": "code",
   "execution_count": null,
   "id": "a92f7cdf",
   "metadata": {},
   "outputs": [],
   "source": [
    "#2\n",
    "with open(\"today.txt\", \"r\") as file:\n",
    "    today_string = file.read()\n"
   ]
  },
  {
   "cell_type": "code",
   "execution_count": null,
   "id": "ebdac553",
   "metadata": {},
   "outputs": [],
   "source": [
    "#3\n",
    "parsed_date = datetime.strptime(today_string, \"%Y-%m-%d\")\n"
   ]
  },
  {
   "cell_type": "code",
   "execution_count": null,
   "id": "bd485610",
   "metadata": {},
   "outputs": [],
   "source": [
    "#4\n",
    "current_directory_files = os.listdir()\n"
   ]
  },
  {
   "cell_type": "code",
   "execution_count": null,
   "id": "d2dcad47",
   "metadata": {},
   "outputs": [],
   "source": [
    "#5\n",
    "parent_directory = os.path.abspath(os.path.join(os.getcwd(), os.pardir))\n",
    "parent_directory_files = os.listdir(parent_directory)\n"
   ]
  },
  {
   "cell_type": "code",
   "execution_count": null,
   "id": "98657b7c",
   "metadata": {},
   "outputs": [],
   "source": [
    "#6\n",
    "import random\n",
    "import time\n",
    "from multiprocessing import Process\n",
    "\n",
    "def print_current_time(process_name):\n",
    "    random_wait = random.randint(1, 5)\n",
    "    time.sleep(random_wait)\n",
    "    current_time = datetime.now().strftime(\"%Y-%m-%d %H:%M:%S\")\n",
    "    print(f\"{process_name} - Current Time: {current_time}\")\n",
    "\n",
    "processes = []\n",
    "for i in range(3):\n",
    "    p = Process(target=print_current_time, args=(f\"Process {i+1}\",))\n",
    "    processes.append(p)\n",
    "    p.start()\n",
    "\n",
    "for p in processes:\n",
    "    p.join()\n"
   ]
  },
  {
   "cell_type": "code",
   "execution_count": null,
   "id": "8bc3d62c",
   "metadata": {},
   "outputs": [],
   "source": [
    "#7\n",
    "birth_date = datetime(year=1990, month=5, day=15)  # Replace with your actual birthdate.\n"
   ]
  },
  {
   "cell_type": "code",
   "execution_count": null,
   "id": "434a3def",
   "metadata": {},
   "outputs": [],
   "source": [
    "#8\n",
    "day_of_week_birth = birth_date.strftime(\"%A\")\n"
   ]
  },
  {
   "cell_type": "code",
   "execution_count": null,
   "id": "4117f93f",
   "metadata": {},
   "outputs": [],
   "source": [
    "#9\n",
    "ten_thousand_days_old = birth_date + timedelta(days=10000)\n",
    "\n"
   ]
  },
  {
   "cell_type": "code",
   "execution_count": null,
   "id": "0ab550bf",
   "metadata": {},
   "outputs": [],
   "source": []
  }
 ],
 "metadata": {
  "kernelspec": {
   "display_name": "Python 3 (ipykernel)",
   "language": "python",
   "name": "python3"
  },
  "language_info": {
   "codemirror_mode": {
    "name": "ipython",
    "version": 3
   },
   "file_extension": ".py",
   "mimetype": "text/x-python",
   "name": "python",
   "nbconvert_exporter": "python",
   "pygments_lexer": "ipython3",
   "version": "3.9.7"
  }
 },
 "nbformat": 4,
 "nbformat_minor": 5
}
