{
 "cells": [
  {
   "cell_type": "markdown",
   "id": "47e903ed",
   "metadata": {},
   "source": [
    "Assignment-20\n",
    "1. Set the variable test1 to the string 'This is a test of the emergency text system,' and save test1 to a file named test.txt.\n",
    "2. Read the contents of the file test.txt into the variable test2. Is there a difference between test 1 and test 2?\n",
    "3. Create a CSV file called books.csv by using these lines:\n",
    "title,author,year\n",
    "The Weirdstone of Brisingamen,Alan Garner,1960\n",
    "Perdido Street Station,China Miéville,2000\n",
    "Thud!,Terry Pratchett,2005\n",
    "The Spellman Files,Lisa Lutz,2007\n",
    "Small Gods,Terry Pratchett,1992\n",
    "4. Use the sqlite3 module to create a SQLite database called books.db, and a table called books with these fields: title (text), author (text), and year (integer).\n",
    "5. Read books.csv and insert its data into the book table.\n",
    "6. Select and print the title column from the book table in alphabetical order.\n",
    "7. From the book table, select and print all columns in the order of publication.\n",
    "8. Use the sqlalchemy module to connect to the sqlite3 database books.db that you just made in exercise 6.\n",
    "9. Install the Redis server and the Python redis library (pip install redis) on your computer. Create a Redis hash called test with the fields count (1) and name ('Fester Bestertester'). Print all the fields for test.\n",
    "10. Increment the count field of test and print it.\n",
    "\n"
   ]
  },
  {
   "cell_type": "code",
   "execution_count": 1,
   "id": "0d13a90d",
   "metadata": {},
   "outputs": [],
   "source": [
    "#1\n",
    "\n",
    "test1 = 'This is a test of the emergency text system.'\n",
    "\n",
    "\n",
    "with open('test.txt', 'w') as file:\n",
    "    file.write(test1)\n"
   ]
  },
  {
   "cell_type": "code",
   "execution_count": 2,
   "id": "b060f441",
   "metadata": {},
   "outputs": [
    {
     "name": "stdout",
     "output_type": "stream",
     "text": [
      "test1 and test2 are the same.\n"
     ]
    }
   ],
   "source": [
    "#2\n",
    "\n",
    "with open('test.txt', 'r') as file:\n",
    "    test2 = file.read()\n",
    "\n",
    "if test1 == test2:\n",
    "    print(\"test1 and test2 are the same.\")\n",
    "else:\n",
    "    print(\"test1 and test2 are different.\")\n",
    "\n"
   ]
  },
  {
   "cell_type": "code",
   "execution_count": 3,
   "id": "253abb16",
   "metadata": {},
   "outputs": [
    {
     "name": "stdout",
     "output_type": "stream",
     "text": [
      "CSV file 'books.csv' has been created.\n"
     ]
    }
   ],
   "source": [
    "#3\n",
    "import csv\n",
    "\n",
    "\n",
    "data = [\n",
    "    ['title', 'author', 'year'],\n",
    "    ['The Weirdstone of Brisingamen', 'Alan Garner', '1960'],\n",
    "    ['Perdido Street Station', 'China Miéville', '2000'],\n",
    "    ['Thud!', 'Terry Pratchett', '2005'],\n",
    "    ['The Spellman Files', 'Lisa Lutz', '2007'],\n",
    "    ['Small Gods', 'Terry Pratchett', '1992']\n",
    "]\n",
    "\n",
    "\n",
    "with open('books.csv', 'w', newline='') as file:\n",
    "    writer = csv.writer(file)\n",
    "    writer.writerows(data)\n",
    "\n",
    "print(\"CSV file 'books.csv' has been created.\")\n"
   ]
  },
  {
   "cell_type": "code",
   "execution_count": null,
   "id": "c35d6081",
   "metadata": {},
   "outputs": [],
   "source": [
    "#4\n",
    "import sqlite3\n",
    "\n",
    "\n",
    "conn = sqlite3.connect('books.db')\n",
    "\n",
    "\n",
    "cursor = conn.cursor()\n",
    "\n",
    "\n",
    "create_table_sql = '''\n",
    "CREATE TABLE IF NOT EXISTS books (\n",
    "    title TEXT,\n",
    "    author TEXT,\n",
    "    year INTEGER\n",
    ");\n",
    "'''\n",
    "cursor.execute(create_table_sql)\n",
    "\n",
    "\n",
    "conn.commit()\n",
    "conn.close()\n",
    "\n",
    "print(\"SQLite database 'books.db' and table 'books' have been created.\")\n"
   ]
  },
  {
   "cell_type": "code",
   "execution_count": null,
   "id": "1326f06f",
   "metadata": {},
   "outputs": [],
   "source": [
    "#5\n",
    "import sqlite3\n",
    "import csv\n",
    "\n",
    "\n",
    "conn = sqlite3.connect('books.db')\n",
    "\n",
    "cursor = conn.cursor()\n",
    "\n",
    "\n",
    "with open('books.csv', 'r', newline='') as file:\n",
    "    csv_reader = csv.reader(file)\n",
    "    next(csv_reader)  \n",
    "\n",
    "    for row in csv_reader:\n",
    "        title, author, year = row\n",
    "        cursor.execute(\"INSERT INTO books (title, author, year) VALUES (?, ?, ?)\", (title, author, int(year)))\n",
    "\n",
    "\n",
    "conn.commit()\n",
    "conn.close()\n",
    "\n",
    "print(\"Data from 'books.csv' has been inserted into the 'books' table.\")\n"
   ]
  },
  {
   "cell_type": "code",
   "execution_count": null,
   "id": "9459e2ec",
   "metadata": {},
   "outputs": [],
   "source": [
    "#6\n",
    "import sqlite3\n",
    "\n",
    "conn = sqlite3.connect('books.db')\n",
    "\n",
    "cursor = conn.cursor()\n",
    "\n",
    "\n",
    "cursor.execute(\"SELECT title FROM books ORDER BY title ASC\")\n",
    "\n",
    "\n",
    "titles = cursor.fetchall()\n",
    "\n",
    "\n",
    "for title in titles:\n",
    "    print(title[0])\n",
    "\n",
    "\n",
    "conn.close()\n"
   ]
  },
  {
   "cell_type": "code",
   "execution_count": null,
   "id": "a8b6da22",
   "metadata": {},
   "outputs": [],
   "source": [
    "#7\n",
    "import sqlite3\n",
    "\n",
    "conn = sqlite3.connect('books.db')\n",
    "\n",
    "\n",
    "cursor = conn.cursor()\n",
    "\n",
    "cursor.execute(\"SELECT * FROM books ORDER BY year\")\n",
    "\n",
    "\n",
    "books = cursor.fetchall()\n",
    "\n",
    "\n",
    "for book in books:\n",
    "    print(\"Title:\", book[0])\n",
    "    print(\"Author:\", book[1])\n",
    "    print(\"Year:\", book[2])\n",
    "    print()\n",
    "\n",
    "\n",
    "conn.close()\n"
   ]
  },
  {
   "cell_type": "code",
   "execution_count": null,
   "id": "c5b6f4b6",
   "metadata": {},
   "outputs": [],
   "source": [
    "#8\n",
    "from sqlalchemy import create_engine\n",
    "\n",
    "\n",
    "db_url = \"sqlite:///books.db\"\n",
    "\n",
    "\n",
    "engine = create_engine(db_url)\n",
    "\n",
    "\n",
    "connection = engine.connect()\n",
    "result = connection.execute(\"SELECT title FROM books\")\n",
    "for row in result:\n",
    "    print(row['title'])\n",
    "\n",
    "\n",
    "connection.close()\n"
   ]
  },
  {
   "cell_type": "code",
   "execution_count": null,
   "id": "1fdd3e9a",
   "metadata": {},
   "outputs": [],
   "source": [
    "#9\n",
    "import redis\n",
    "\n",
    "r = redis.Redis(host='localhost', port=6379, db=0)\n",
    "\n",
    "r.hset('test', 'count', 1)\n",
    "r.hset('test', 'name', 'Fester Bestertester')\n",
    "fields = r.hgetall('test')\n",
    "fields = {key.decode('utf-8'): value.decode('utf-8') for key, value in fields.items()}\n",
    "\n",
    "print(fields)\n"
   ]
  },
  {
   "cell_type": "code",
   "execution_count": null,
   "id": "7397c109",
   "metadata": {},
   "outputs": [],
   "source": [
    "#10\n",
    "import redis\n",
    "r = redis.Redis(host='localhost', port=6379, db=0)\n",
    "incremented_value = r.hincrby('test', 'count', 1)\n",
    "print(\"Updated count:\", incremented_value)\n"
   ]
  }
 ],
 "metadata": {
  "kernelspec": {
   "display_name": "Python 3 (ipykernel)",
   "language": "python",
   "name": "python3"
  },
  "language_info": {
   "codemirror_mode": {
    "name": "ipython",
    "version": 3
   },
   "file_extension": ".py",
   "mimetype": "text/x-python",
   "name": "python",
   "nbconvert_exporter": "python",
   "pygments_lexer": "ipython3",
   "version": "3.9.7"
  }
 },
 "nbformat": 4,
 "nbformat_minor": 5
}
