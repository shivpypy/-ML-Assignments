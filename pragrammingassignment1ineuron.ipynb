{
 "cells": [
  {
   "cell_type": "markdown",
   "id": "9320bea2",
   "metadata": {},
   "source": [
    "1.\tWrite a Python program to print \"Hello Python\"?\n",
    "2.\tWrite a Python program to do arithmetical operations addition and division.?\n",
    "3.\tWrite a Python program to find the area of a triangle?\n",
    "4.\tWrite a Python program to swap two variables?\n",
    "5.\tWrite a Python program to generate a random number?\n"
   ]
  },
  {
   "cell_type": "code",
   "execution_count": 1,
   "id": "5e8bf4a9",
   "metadata": {},
   "outputs": [
    {
     "name": "stdout",
     "output_type": "stream",
     "text": [
      "Hello Python\n"
     ]
    }
   ],
   "source": [
    "#1\n",
    "x=\"Hello Python\"\n",
    "print(x)"
   ]
  },
  {
   "cell_type": "code",
   "execution_count": 4,
   "id": "5b70ddcc",
   "metadata": {},
   "outputs": [
    {
     "name": "stdout",
     "output_type": "stream",
     "text": [
      "enter first num: 23\n",
      "enter second num: 56\n",
      "the sum is : 79\n",
      "the division is : 0.4107142857142857\n"
     ]
    }
   ],
   "source": [
    "#2\n",
    "x=int(input(\"enter first num: \"))\n",
    "y=int(input(\"enter second num: \"))\n",
    "c=x+y\n",
    "d=x/y\n",
    "print(f\"the sum is : {c}\")\n",
    "print(f\"the division is : {d}\")\n"
   ]
  },
  {
   "cell_type": "code",
   "execution_count": 5,
   "id": "96da90fc",
   "metadata": {},
   "outputs": [
    {
     "name": "stdout",
     "output_type": "stream",
     "text": [
      "enter height of triangle: 23\n",
      "enter base of triangle: 34\n",
      "the area of triangle is : 391.0\n"
     ]
    }
   ],
   "source": [
    "#3\n",
    "height_of_triangle=int(input(\"enter height of triangle: \"))\n",
    "base_of_triangle=int(input(\"enter base of triangle: \"))\n",
    "area=(height_of_triangle*base_of_triangle)/2\n",
    "print(f\"the area of triangle is : {area}\")"
   ]
  },
  {
   "cell_type": "code",
   "execution_count": 9,
   "id": "213fd385",
   "metadata": {},
   "outputs": [
    {
     "name": "stdout",
     "output_type": "stream",
     "text": [
      "enter any num1(x): 34\n",
      "enter any num2(y): 45\n",
      "after swapping value of x : 45\n",
      "after swapping value of y: 34\n"
     ]
    }
   ],
   "source": [
    "#4\n",
    "x=int(input(\"enter any num1(x): \"))\n",
    "y=int(input(\"enter any num2(y): \"))\n",
    "\n",
    "temp=x\n",
    "x=y\n",
    "y=temp\n",
    "\n",
    "print(f\"after swapping value of x : {x}\")\n",
    "print(f\"after swapping value of y: {y}\")"
   ]
  },
  {
   "cell_type": "code",
   "execution_count": 10,
   "id": "20336303",
   "metadata": {},
   "outputs": [
    {
     "data": {
      "text/plain": [
       "9"
      ]
     },
     "execution_count": 10,
     "metadata": {},
     "output_type": "execute_result"
    }
   ],
   "source": [
    "#5\n",
    "import random\n",
    "random.randint(0,10)"
   ]
  },
  {
   "cell_type": "code",
   "execution_count": null,
   "id": "bd93bbe6",
   "metadata": {},
   "outputs": [],
   "source": []
  }
 ],
 "metadata": {
  "kernelspec": {
   "display_name": "Python 3 (ipykernel)",
   "language": "python",
   "name": "python3"
  },
  "language_info": {
   "codemirror_mode": {
    "name": "ipython",
    "version": 3
   },
   "file_extension": ".py",
   "mimetype": "text/x-python",
   "name": "python",
   "nbconvert_exporter": "python",
   "pygments_lexer": "ipython3",
   "version": "3.9.7"
  }
 },
 "nbformat": 4,
 "nbformat_minor": 5
}
