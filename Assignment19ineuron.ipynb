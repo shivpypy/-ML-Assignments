{
 "cells": [
  {
   "cell_type": "markdown",
   "id": "33dbed5c",
   "metadata": {},
   "source": [
    "Assignment-19\n",
    "1. Make a class called Thing with no contents and print it. Then, create an object called example from this class and also print it. Are the printed values the same or different?\n",
    "2. Create a new class called Thing2 and add the value 'abc' to the letters class attribute. Letters should be printed.\n",
    "3. Make yet another class called, of course, Thing3. This time, assign the value 'xyz' to an instance (object) attribute called letters. Print letters. Do you need to make an object from the class to do this?\n",
    "4. Create an Element class with the instance attributes name, symbol, and number. Create a class object with the values 'Hydrogen,' 'H,' and 1.\n",
    "5. Make a dictionary with these keys and values: 'name': 'Hydrogen', 'symbol': 'H', 'number': 1. Then, create an object called hydrogen from class Element using this dictionary.\n",
    "6. For the Element class, define a method called dump() that prints the values of the object’s attributes (name, symbol, and number). Create the hydrogen object from this new definition and use dump() to print its attributes.\n",
    "7. Call print(hydrogen). In the definition of Element, change the name of method dump to __str__, create a new hydrogen object, and call print(hydrogen) again.\n",
    "8. Modify Element to make the attributes name, symbol, and number private. Define a getter property for each to return its value.\n",
    "9. Define three classes: Bear, Rabbit, and Octothorpe. For each, define only one method: eats(). This should return 'berries' (Bear), 'clover' (Rabbit), or 'campers' (Octothorpe). Create one object from each and print what it eats.\n",
    "10. Define these classes: Laser, Claw, and SmartPhone. Each has only one method: does(). This returns 'disintegrate' (Laser), 'crush' (Claw), or 'ring' (SmartPhone). Then, define the class Robot that has one instance (object) of each of these. Define a does() method for the Robot that prints what its component objects do.\n",
    "\n"
   ]
  },
  {
   "cell_type": "code",
   "execution_count": 1,
   "id": "dd3652b8",
   "metadata": {},
   "outputs": [
    {
     "name": "stdout",
     "output_type": "stream",
     "text": [
      "<class '__main__.Thing'>\n",
      "<__main__.Thing object at 0x0000026E7A5F2880>\n"
     ]
    }
   ],
   "source": [
    "#1\n",
    "\n",
    "class Thing:\n",
    "    pass\n",
    "\n",
    "\n",
    "print(Thing)\n",
    "example = Thing()\n",
    "print(example)\n"
   ]
  },
  {
   "cell_type": "code",
   "execution_count": 2,
   "id": "52360716",
   "metadata": {},
   "outputs": [
    {
     "name": "stdout",
     "output_type": "stream",
     "text": [
      "abc\n"
     ]
    }
   ],
   "source": [
    "#2\n",
    "class Thing2:\n",
    "    letters = 'abc'\n",
    "\n",
    "\n",
    "print(Thing2.letters)\n"
   ]
  },
  {
   "cell_type": "code",
   "execution_count": 3,
   "id": "44bd2414",
   "metadata": {},
   "outputs": [
    {
     "name": "stdout",
     "output_type": "stream",
     "text": [
      "xyz\n"
     ]
    }
   ],
   "source": [
    "#3\n",
    "class Thing3:\n",
    "    def __init__(self):\n",
    "        self.letters = 'xyz'\n",
    "\n",
    "example = Thing3()\n",
    "\n",
    "\n",
    "print(example.letters)\n"
   ]
  },
  {
   "cell_type": "code",
   "execution_count": 4,
   "id": "d9c5c37d",
   "metadata": {},
   "outputs": [],
   "source": [
    "#4\n",
    "class Element:\n",
    "    def __init__(self, name, symbol, number):\n",
    "        self.name = name\n",
    "        self.symbol = symbol\n",
    "        self.number = number\n",
    "\n",
    "\n",
    "hydrogen = Element('Hydrogen', 'H', 1)\n"
   ]
  },
  {
   "cell_type": "code",
   "execution_count": null,
   "id": "a1829a98",
   "metadata": {},
   "outputs": [],
   "source": [
    "print(hydrogen.name)    # Output: Hydrogen\n",
    "print(hydrogen.symbol)  # Output: H\n",
    "print(hydrogen.number)  # Output: 1\n"
   ]
  },
  {
   "cell_type": "code",
   "execution_count": 5,
   "id": "22b56272",
   "metadata": {},
   "outputs": [],
   "source": [
    "#5\n",
    "class Element:\n",
    "    def __init__(self, name, symbol, number):\n",
    "        self.name = name\n",
    "        self.symbol = symbol\n",
    "        self.number = number\n",
    "\n",
    "\n",
    "hydrogen_dict = {'name': 'Hydrogen', 'symbol': 'H', 'number': 1}\n",
    "\n",
    "\n",
    "hydrogen = Element(**hydrogen_dict)\n",
    "\n"
   ]
  },
  {
   "cell_type": "code",
   "execution_count": null,
   "id": "c665e3db",
   "metadata": {},
   "outputs": [],
   "source": [
    "print(hydrogen.name)    # Output: Hydrogen\n",
    "print(hydrogen.symbol)  # Output: H\n",
    "print(hydrogen.number)  # Output: 1\n"
   ]
  },
  {
   "cell_type": "code",
   "execution_count": 6,
   "id": "dd2dbc88",
   "metadata": {},
   "outputs": [
    {
     "name": "stdout",
     "output_type": "stream",
     "text": [
      "Name: Hydrogen, Symbol: H, Number: 1\n"
     ]
    }
   ],
   "source": [
    "#6\n",
    "class Element:\n",
    "    def __init__(self, name, symbol, number):\n",
    "        self.name = name\n",
    "        self.symbol = symbol\n",
    "        self.number = number\n",
    "\n",
    "    def dump(self):\n",
    "        print(f\"Name: {self.name}, Symbol: {self.symbol}, Number: {self.number}\")\n",
    "\n",
    "\n",
    "hydrogen = Element('Hydrogen', 'H', 1)\n",
    "\n",
    "\n",
    "hydrogen.dump()\n"
   ]
  },
  {
   "cell_type": "code",
   "execution_count": 7,
   "id": "72a951af",
   "metadata": {},
   "outputs": [
    {
     "name": "stdout",
     "output_type": "stream",
     "text": [
      "Name: Hydrogen, Symbol: H, Number: 1\n"
     ]
    }
   ],
   "source": [
    "#7\n",
    "class Element:\n",
    "    def __init__(self, name, symbol, number):\n",
    "        self.name = name\n",
    "        self.symbol = symbol\n",
    "        self.number = number\n",
    "\n",
    "    def __str__(self):\n",
    "        return f\"Name: {self.name}, Symbol: {self.symbol}, Number: {self.number}\"\n",
    "\n",
    "\n",
    "hydrogen = Element('Hydrogen', 'H', 1)\n",
    "\n",
    "\n",
    "print(hydrogen)\n"
   ]
  },
  {
   "cell_type": "code",
   "execution_count": null,
   "id": "8ceedb11",
   "metadata": {},
   "outputs": [],
   "source": [
    "#8\n",
    "class Element:\n",
    "    def __init__(self, name, symbol, number):\n",
    "        self._name = name\n",
    "        self._symbol = symbol\n",
    "        self._number = number\n",
    "\n",
    "    @property\n",
    "    def name(self):\n",
    "        return self._name\n",
    "\n",
    "    @property\n",
    "    def symbol(self):\n",
    "        return self._symbol\n",
    "\n",
    "    @property\n",
    "    def number(self):\n",
    "        return self._number\n",
    "\n",
    "\n",
    "hydrogen = Element('Hydrogen', 'H', 1)\n",
    "\n",
    "\n",
    "print(hydrogen.name)    # Output: Hydrogen\n",
    "print(hydrogen.symbol)  # Output: H\n",
    "print(hydrogen.number)  # Output: 1\n"
   ]
  },
  {
   "cell_type": "code",
   "execution_count": null,
   "id": "dae6ea05",
   "metadata": {},
   "outputs": [],
   "source": [
    "#9\n",
    "class Bear:\n",
    "    def eats(self):\n",
    "        return 'berries'\n",
    "\n",
    "class Rabbit:\n",
    "    def eats(self):\n",
    "        return 'clover'\n",
    "\n",
    "class Octothorpe:\n",
    "    def eats(self):\n",
    "        return 'campers'\n",
    "\n",
    "\n",
    "bear = Bear()\n",
    "rabbit = Rabbit()\n",
    "octothorpe = Octothorpe()\n",
    "\n",
    "\n",
    "print(\"Bear eats:\", bear.eats())  # Output: Bear eats: berries\n",
    "print(\"Rabbit eats:\", rabbit.eats())  # Output: Rabbit eats: clover\n",
    "print(\"Octothorpe eats:\", octothorpe.eats())  # Output: Octothorpe eats: campers\n"
   ]
  },
  {
   "cell_type": "code",
   "execution_count": null,
   "id": "a62ec26a",
   "metadata": {},
   "outputs": [],
   "source": [
    "#10\n",
    "class Laser:\n",
    "    def does(self):\n",
    "        return 'disintegrate'\n",
    "\n",
    "class Claw:\n",
    "    def does(self):\n",
    "        return 'crush'\n",
    "\n",
    "class SmartPhone:\n",
    "    def does(self):\n",
    "        return 'ring'\n",
    "\n",
    "class Robot:\n",
    "    def __init__(self):\n",
    "        self.laser = Laser()\n",
    "        self.claw = Claw()\n",
    "        self.smartphone = SmartPhone()\n",
    "\n",
    "    def does(self):\n",
    "        laser_action = self.laser.does()\n",
    "        claw_action = self.claw.does()\n",
    "        smartphone_action = self.smartphone.does()\n",
    "        return f'Laser does: {laser_action}, Claw does: {claw_action}, SmartPhone does: {smartphone_action}'\n",
    "\n",
    "\n",
    "robot = Robot()\n",
    "\n",
    "\n",
    "print(robot.does())\n"
   ]
  }
 ],
 "metadata": {
  "kernelspec": {
   "display_name": "Python 3 (ipykernel)",
   "language": "python",
   "name": "python3"
  },
  "language_info": {
   "codemirror_mode": {
    "name": "ipython",
    "version": 3
   },
   "file_extension": ".py",
   "mimetype": "text/x-python",
   "name": "python",
   "nbconvert_exporter": "python",
   "pygments_lexer": "ipython3",
   "version": "3.9.7"
  }
 },
 "nbformat": 4,
 "nbformat_minor": 5
}
