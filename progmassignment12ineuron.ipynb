{
 "cells": [
  {
   "cell_type": "markdown",
   "id": "b8ee2061",
   "metadata": {},
   "source": [
    "1.\tWrite a Python program to Extract Unique values dictionary values?\n",
    "2.\tWrite a Python program to find the sum of all items in a dictionary?\n",
    "3.\tWrite a Python program to Merging two Dictionaries?\n",
    "4.\tWrite a Python program to convert key-values list to flat dictionary?\n",
    "5.\tWrite a Python program to insertion at the beginning in OrderedDict?\n",
    "6.\tWrite a Python program to check order of character in string using OrderedDict()?\n",
    "7.\tWrite a Python program to sort Python Dictionaries by Key or Value?\n"
   ]
  },
  {
   "cell_type": "code",
   "execution_count": 1,
   "id": "43bf3abd",
   "metadata": {},
   "outputs": [
    {
     "name": "stdout",
     "output_type": "stream",
     "text": [
      "Unique values: [1, 2, 3, 4, 5]\n"
     ]
    }
   ],
   "source": [
    "#1\n",
    "def extract_unique_values(dictionary):\n",
    "    unique_values = set(value for values in dictionary.values() for value in values)\n",
    "    return list(unique_values)\n",
    "\n",
    "my_dict = {'A': [1, 2, 3], 'B': [2, 3, 4], 'C': [3, 4, 5]}\n",
    "unique_values = extract_unique_values(my_dict)\n",
    "print(\"Unique values:\", unique_values)\n"
   ]
  },
  {
   "cell_type": "code",
   "execution_count": 2,
   "id": "db4c0800",
   "metadata": {},
   "outputs": [
    {
     "name": "stdout",
     "output_type": "stream",
     "text": [
      "Sum of dictionary values: 60\n"
     ]
    }
   ],
   "source": [
    "#2\n",
    "def sum_dictionary_values(dictionary):\n",
    "    return sum(dictionary.values())\n",
    "\n",
    "my_dict = {'A': 10, 'B': 20, 'C': 30}\n",
    "total = sum_dictionary_values(my_dict)\n",
    "print(\"Sum of dictionary values:\", total)\n"
   ]
  },
  {
   "cell_type": "code",
   "execution_count": 3,
   "id": "b61ed8ab",
   "metadata": {},
   "outputs": [
    {
     "name": "stdout",
     "output_type": "stream",
     "text": [
      "Merged dictionary: {'A': 10, 'B': 20, 'C': 30, 'D': 40}\n"
     ]
    }
   ],
   "source": [
    "#3\n",
    "def merge_dicts(dict1, dict2):\n",
    "    merged_dict = {**dict1, **dict2}\n",
    "    return merged_dict\n",
    "\n",
    "dict1 = {'A': 10, 'B': 20}\n",
    "dict2 = {'C': 30, 'D': 40}\n",
    "merged = merge_dicts(dict1, dict2)\n",
    "print(\"Merged dictionary:\", merged)\n"
   ]
  },
  {
   "cell_type": "code",
   "execution_count": 4,
   "id": "f90ff93f",
   "metadata": {},
   "outputs": [
    {
     "name": "stdout",
     "output_type": "stream",
     "text": [
      "Flat dictionary: {'A': 10, 'B': 20, 'C': 30}\n"
     ]
    }
   ],
   "source": [
    "#4\n",
    "def list_to_flat_dict(key_value_list):\n",
    "    flat_dict = {key: value for key, value in key_value_list}\n",
    "    return flat_dict\n",
    "\n",
    "key_value_list = [('A', 10), ('B', 20), ('C', 30)]\n",
    "flat_dict = list_to_flat_dict(key_value_list)\n",
    "print(\"Flat dictionary:\", flat_dict)\n"
   ]
  },
  {
   "cell_type": "code",
   "execution_count": 11,
   "id": "dbf6ccc9",
   "metadata": {},
   "outputs": [
    {
     "name": "stdout",
     "output_type": "stream",
     "text": [
      "OrderedDict after insertion at the beginning: OrderedDict([('X', 5), ('A', 10), ('B', 20), ('C', 30)])\n"
     ]
    }
   ],
   "source": [
    "#5\n",
    "from collections import OrderedDict\n",
    "\n",
    "def insert_at_beginning(ordered_dict, key, value):\n",
    "    ordered_dict.update({key: value})\n",
    "    ordered_dict.move_to_end(key, last=False)\n",
    "\n",
    "my_ordered_dict = OrderedDict([('A', 10), ('B', 20), ('C', 30)])\n",
    "insert_at_beginning(my_ordered_dict, 'X', 5)\n",
    "print(\"OrderedDict after insertion at the beginning:\", my_ordered_dict)\n",
    "\n"
   ]
  },
  {
   "cell_type": "code",
   "execution_count": 8,
   "id": "fa59a3e6",
   "metadata": {},
   "outputs": [
    {
     "name": "stdout",
     "output_type": "stream",
     "text": [
      "The characters in 'hlo' appear in order in the string.\n"
     ]
    }
   ],
   "source": [
    "#6\n",
    "from collections import OrderedDict\n",
    "\n",
    "def check_order_of_characters(text, pattern):\n",
    "    char_order = OrderedDict.fromkeys(pattern)\n",
    "    index = 0\n",
    "    for char in text:\n",
    "        if char == pattern[index]:\n",
    "            index += 1\n",
    "        if index == len(pattern):\n",
    "            return True\n",
    "    return False\n",
    "\n",
    "input_string = \"hello world\"\n",
    "pattern = \"hlo\"\n",
    "if check_order_of_characters(input_string, pattern):\n",
    "    print(f\"The characters in '{pattern}' appear in order in the string.\")\n",
    "else:\n",
    "    print(f\"The characters in '{pattern}' do not appear in order in the string.\")\n"
   ]
  },
  {
   "cell_type": "code",
   "execution_count": 9,
   "id": "a131b09c",
   "metadata": {},
   "outputs": [
    {
     "name": "stdout",
     "output_type": "stream",
     "text": [
      "Sorted by key: {'A': 1, 'B': 3, 'C': 2, 'D': 4}\n"
     ]
    }
   ],
   "source": [
    "#7\n",
    "#sort by key\n",
    "my_dict = {'B': 3, 'A': 1, 'D': 4, 'C': 2}\n",
    "sorted_dict_by_key = dict(sorted(my_dict.items()))\n",
    "print(\"Sorted by key:\", sorted_dict_by_key)\n"
   ]
  },
  {
   "cell_type": "code",
   "execution_count": 10,
   "id": "133c02bf",
   "metadata": {},
   "outputs": [
    {
     "name": "stdout",
     "output_type": "stream",
     "text": [
      "Sorted by value: {'A': 1, 'C': 2, 'B': 3, 'D': 4}\n"
     ]
    }
   ],
   "source": [
    "#7\n",
    "#sort by value\n",
    "my_dict = {'B': 3, 'A': 1, 'D': 4, 'C': 2}\n",
    "sorted_dict_by_value = dict(sorted(my_dict.items(), key=lambda item: item[1]))\n",
    "print(\"Sorted by value:\", sorted_dict_by_value)\n"
   ]
  },
  {
   "cell_type": "code",
   "execution_count": null,
   "id": "9a24564e",
   "metadata": {},
   "outputs": [],
   "source": []
  }
 ],
 "metadata": {
  "kernelspec": {
   "display_name": "Python 3 (ipykernel)",
   "language": "python",
   "name": "python3"
  },
  "language_info": {
   "codemirror_mode": {
    "name": "ipython",
    "version": 3
   },
   "file_extension": ".py",
   "mimetype": "text/x-python",
   "name": "python",
   "nbconvert_exporter": "python",
   "pygments_lexer": "ipython3",
   "version": "3.9.7"
  }
 },
 "nbformat": 4,
 "nbformat_minor": 5
}
