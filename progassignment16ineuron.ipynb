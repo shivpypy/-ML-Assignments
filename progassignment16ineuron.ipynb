{
 "cells": [
  {
   "cell_type": "markdown",
   "id": "6f556da4",
   "metadata": {},
   "source": [
    "Question1. Write a function that stutters a word as if someone is struggling to read it. The first two letters are repeated twice with an ellipsis ... and space after each, and then the word is pronounced with a question mark ?.\n",
    "Examples\n",
    "stutter(\"incredible\") ➞ \"in... in... incredible?\"\n",
    "\n",
    "stutter(\"enthusiastic\") ➞ \"en... en... enthusiastic?\"\n",
    "\n",
    "stutter(\"outstanding\") ➞ \"ou... ou... outstanding?\"\n",
    "\n",
    "Hint :- Assume all input is in lower case and at least two characters long.\n",
    "\n",
    "Question 2.Create a function that takes an angle in radians and returns the corresponding angle in degrees rounded to one decimal place.\n",
    "Examples\n",
    "radians_to_degrees(1) ➞ 57.3\n",
    "\n",
    "radians_to_degrees(20) ➞ 1145.9\n",
    "\n",
    "radians_to_degrees(50) ➞ 2864.8\n",
    "\n",
    "\n",
    "Question 3. In this challenge, establish if a given integer num is a Curzon number. If 1 plus 2 elevated to num is exactly divisible by 1 plus 2 multiplied by num, then num is a Curzon number.\n",
    "Given a non-negative integer num, implement a function that returns True if num is a Curzon number, or False otherwise.\n",
    "Examples\n",
    "is_curzon(5) ➞ True\n",
    "#2 ** 5 + 1 = 33\n",
    "#2 * 5 + 1 = 11\n",
    "#33 is a multiple of 11\n",
    "\n",
    "is_curzon(10) ➞ False\n",
    "#2 ** 10 + 1 = 1025\n",
    "#2 * 10 + 1 = 21\n",
    "#1025 is not a multiple of 21\n",
    "\n",
    "is_curzon(14) ➞ True\n",
    "#2 ** 14 + 1 = 16385\n",
    "#2 * 14 + 1 = 29\n",
    "#16385 is a multiple of 29\n",
    "\n",
    "Question 4.Given the side length x find the area of a hexagon.\n",
    " \n",
    "Examples\n",
    "area_of_hexagon(1) ➞ 2.6\n",
    "\n",
    "area_of_hexagon(2) ➞ 10.4\n",
    "\n",
    "area_of_hexagon(3) ➞ 23.4\n",
    "\n",
    "\n",
    "\n",
    "Question 5. Create a function that returns a base-2 (binary) representation of a base-10 (decimal) string number. To convert is simple: ((2) means base-2 and (10) means base-10) 010101001(2) = 1 + 8 + 32 + 128.\n",
    "Going from right to left, the value of the most right bit is 1, now from that every bit to the left will be x2 the value, value of an 8 bit binary numbers are (256, 128, 64, 32, 16, 8, 4, 2, 1).\n",
    "Examples\n",
    "binary(1) ➞ \"1\"\n",
    "#1*1 = 1\n",
    "\n",
    "binary(5) ➞ \"101\"\n",
    "#1*1 + 1*4 = 5\n",
    "\n",
    "binary(10) ➞ \"1010\"\n",
    "#1*2 + 1*8 = 10\n",
    "\n",
    "\n",
    "\n",
    "\n"
   ]
  },
  {
   "cell_type": "code",
   "execution_count": 1,
   "id": "e4e9a9fe",
   "metadata": {},
   "outputs": [
    {
     "name": "stdout",
     "output_type": "stream",
     "text": [
      "in... in... incredible?\n"
     ]
    }
   ],
   "source": [
    "#1\n",
    "def stutter(word):\n",
    "    return f\"{word[:2]}... {word[:2]}... {word}?\"\n",
    "\n",
    "\n",
    "print(stutter(\"incredible\"))      \n"
   ]
  },
  {
   "cell_type": "code",
   "execution_count": 2,
   "id": "40c45bb6",
   "metadata": {},
   "outputs": [
    {
     "name": "stdout",
     "output_type": "stream",
     "text": [
      "57.3\n"
     ]
    }
   ],
   "source": [
    "#2\n",
    "import math\n",
    "\n",
    "def radians_to_degrees(radians):\n",
    "    return round(radians * 180 / math.pi, 1)\n",
    "\n",
    "print(radians_to_degrees(1))    \n",
    "   \n"
   ]
  },
  {
   "cell_type": "code",
   "execution_count": 3,
   "id": "3c181467",
   "metadata": {},
   "outputs": [
    {
     "name": "stdout",
     "output_type": "stream",
     "text": [
      "True\n"
     ]
    }
   ],
   "source": [
    "#3\n",
    "def is_curzon(num):\n",
    "    if (2 ** num + 1) % (2 * num + 1) == 0:\n",
    "        return True\n",
    "    else:\n",
    "        return False\n",
    "\n",
    "\n",
    "print(is_curzon(5))   \n"
   ]
  },
  {
   "cell_type": "code",
   "execution_count": 4,
   "id": "c5378fc0",
   "metadata": {},
   "outputs": [
    {
     "name": "stdout",
     "output_type": "stream",
     "text": [
      "2.6\n"
     ]
    }
   ],
   "source": [
    "#4\n",
    "def area_of_hexagon(x):\n",
    "    return round(3 * (3 ** 0.5) * x ** 2 / 2, 1)\n",
    "\n",
    "print(area_of_hexagon(1))   \n",
    "\n"
   ]
  },
  {
   "cell_type": "code",
   "execution_count": 5,
   "id": "c523a190",
   "metadata": {},
   "outputs": [
    {
     "name": "stdout",
     "output_type": "stream",
     "text": [
      "1\n"
     ]
    }
   ],
   "source": [
    "#5\n",
    "def binary(decimal):\n",
    "    return bin(decimal)[2:]\n",
    "\n",
    "print(binary(1))   "
   ]
  },
  {
   "cell_type": "code",
   "execution_count": null,
   "id": "be0ba071",
   "metadata": {},
   "outputs": [],
   "source": []
  }
 ],
 "metadata": {
  "kernelspec": {
   "display_name": "Python 3 (ipykernel)",
   "language": "python",
   "name": "python3"
  },
  "language_info": {
   "codemirror_mode": {
    "name": "ipython",
    "version": 3
   },
   "file_extension": ".py",
   "mimetype": "text/x-python",
   "name": "python",
   "nbconvert_exporter": "python",
   "pygments_lexer": "ipython3",
   "version": "3.9.7"
  }
 },
 "nbformat": 4,
 "nbformat_minor": 5
}
