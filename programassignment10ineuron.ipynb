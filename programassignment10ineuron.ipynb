{
 "cells": [
  {
   "cell_type": "markdown",
   "id": "915e8084",
   "metadata": {},
   "source": [
    "1.\tWrite a Python program to find sum of elements in list?\n",
    "2.\tWrite a Python program to  Multiply all numbers in the list?\n",
    "3.\tWrite a Python program to find smallest number in a list?\n",
    "4.\tWrite a Python program to find largest number in a list?\n",
    "5.\tWrite a Python program to find second largest number in a list?\n",
    "6.\tWrite a Python program to find N largest elements from a list?\n",
    "7.\tWrite a Python program to print even numbers in a list?\n",
    "8.\tWrite a Python program to print odd numbers in a List?\n",
    "9.\tWrite a Python program to Remove empty List from List?\n",
    "10.\tWrite a Python program to Cloning or Copying a list?\n",
    "11.\tWrite a Python program to Count occurrences of an element in a list?\n"
   ]
  },
  {
   "cell_type": "code",
   "execution_count": 1,
   "id": "365c8942",
   "metadata": {},
   "outputs": [
    {
     "name": "stdout",
     "output_type": "stream",
     "text": [
      "Sum of elements in the list: 15\n"
     ]
    }
   ],
   "source": [
    "#1\n",
    "def sum_of_elements(lst):\n",
    "    return sum(lst)\n",
    "\n",
    "\n",
    "my_list = [1, 2, 3, 4, 5]\n",
    "result = sum_of_elements(my_list)\n",
    "print(\"Sum of elements in the list:\", result)\n",
    "\n"
   ]
  },
  {
   "cell_type": "code",
   "execution_count": 2,
   "id": "55a7dac1",
   "metadata": {},
   "outputs": [
    {
     "name": "stdout",
     "output_type": "stream",
     "text": [
      "Multiplication of elements in the list: 120\n"
     ]
    }
   ],
   "source": [
    "#2\n",
    "def multiply_elements(lst):\n",
    "    result = 1\n",
    "    for num in lst:\n",
    "        result *= num\n",
    "    return result\n",
    "\n",
    "\n",
    "my_list = [1, 2, 3, 4, 5]\n",
    "result = multiply_elements(my_list)\n",
    "print(\"Multiplication of elements in the list:\", result)\n"
   ]
  },
  {
   "cell_type": "code",
   "execution_count": 3,
   "id": "7fb830aa",
   "metadata": {},
   "outputs": [
    {
     "name": "stdout",
     "output_type": "stream",
     "text": [
      "Smallest number in the list: 2\n"
     ]
    }
   ],
   "source": [
    "#3\n",
    "def find_smallest(lst):\n",
    "    return min(lst)\n",
    "\n",
    "\n",
    "my_list = [12, 4, 6, 8, 2]\n",
    "result = find_smallest(my_list)\n",
    "print(\"Smallest number in the list:\", result)\n"
   ]
  },
  {
   "cell_type": "code",
   "execution_count": 4,
   "id": "5531bd94",
   "metadata": {},
   "outputs": [
    {
     "name": "stdout",
     "output_type": "stream",
     "text": [
      "Largest number in the list: 12\n"
     ]
    }
   ],
   "source": [
    "#4\n",
    "def find_largest(lst):\n",
    "    return max(lst)\n",
    "\n",
    "\n",
    "my_list = [12, 4, 6, 8, 2]\n",
    "result = find_largest(my_list)\n",
    "print(\"Largest number in the list:\", result)\n"
   ]
  },
  {
   "cell_type": "code",
   "execution_count": 5,
   "id": "01197faa",
   "metadata": {},
   "outputs": [
    {
     "name": "stdout",
     "output_type": "stream",
     "text": [
      "Second largest number in the list: 8\n"
     ]
    }
   ],
   "source": [
    "#5\n",
    "def find_second_largest(lst):\n",
    "    sorted_lst = sorted(lst, reverse=True)\n",
    "    return sorted_lst[1]\n",
    "\n",
    "\n",
    "my_list = [12, 4, 6, 8, 2]\n",
    "result = find_second_largest(my_list)\n",
    "print(\"Second largest number in the list:\", result)\n"
   ]
  },
  {
   "cell_type": "code",
   "execution_count": 6,
   "id": "87a72944",
   "metadata": {},
   "outputs": [
    {
     "name": "stdout",
     "output_type": "stream",
     "text": [
      "3 largest elements in the list: [15, 12, 9]\n"
     ]
    }
   ],
   "source": [
    "#6\n",
    "def find_n_largest(lst, n):\n",
    "    sorted_lst = sorted(lst, reverse=True)\n",
    "    return sorted_lst[:n]\n",
    "\n",
    "\n",
    "my_list = [12, 4, 6, 8, 2, 15, 9]\n",
    "n = 3\n",
    "result = find_n_largest(my_list, n)\n",
    "print(f\"{n} largest elements in the list:\", result)\n"
   ]
  },
  {
   "cell_type": "code",
   "execution_count": 7,
   "id": "efc60c3d",
   "metadata": {},
   "outputs": [
    {
     "name": "stdout",
     "output_type": "stream",
     "text": [
      "Even numbers in the list: [2, 4, 6, 8]\n"
     ]
    }
   ],
   "source": [
    "#7\n",
    "def print_even_numbers(lst):\n",
    "    even_numbers = [num for num in lst if num % 2 == 0]\n",
    "    return even_numbers\n",
    "\n",
    "\n",
    "my_list = [1, 2, 3, 4, 5, 6, 7, 8, 9]\n",
    "result = print_even_numbers(my_list)\n",
    "print(\"Even numbers in the list:\", result)\n"
   ]
  },
  {
   "cell_type": "code",
   "execution_count": 8,
   "id": "af9fb901",
   "metadata": {},
   "outputs": [
    {
     "name": "stdout",
     "output_type": "stream",
     "text": [
      "Odd numbers in the list: [1, 3, 5, 7, 9]\n"
     ]
    }
   ],
   "source": [
    "#8\n",
    "def print_odd_numbers(lst):\n",
    "    odd_numbers = [num for num in lst if num % 2 != 0]\n",
    "    return odd_numbers\n",
    "my_list = [1, 2, 3, 4, 5, 6, 7, 8, 9]\n",
    "result = print_odd_numbers(my_list)\n",
    "print(\"Odd numbers in the list:\", result)\n"
   ]
  },
  {
   "cell_type": "code",
   "execution_count": 9,
   "id": "1e06b4d7",
   "metadata": {},
   "outputs": [
    {
     "name": "stdout",
     "output_type": "stream",
     "text": [
      "List after removing empty lists: [1, [2, 3], [4, 5]]\n"
     ]
    }
   ],
   "source": [
    "#9\n",
    "def remove_empty_lists(lst):\n",
    "    return [sublist for sublist in lst if sublist]\n",
    "\n",
    "\n",
    "my_list = [1, [], [2, 3], [], [4, 5], []]\n",
    "result = remove_empty_lists(my_list)\n",
    "print(\"List after removing empty lists:\", result)\n"
   ]
  },
  {
   "cell_type": "code",
   "execution_count": 10,
   "id": "935af8bf",
   "metadata": {},
   "outputs": [
    {
     "name": "stdout",
     "output_type": "stream",
     "text": [
      "Cloned list: [1, 2, 3, 4, 5]\n"
     ]
    }
   ],
   "source": [
    "#10\n",
    "def clone_list(lst):\n",
    "    return lst.copy()\n",
    "\n",
    "\n",
    "my_list = [1, 2, 3, 4, 5]\n",
    "cloned_list = clone_list(my_list)\n",
    "print(\"Cloned list:\", cloned_list)\n"
   ]
  },
  {
   "cell_type": "code",
   "execution_count": 11,
   "id": "7574a026",
   "metadata": {},
   "outputs": [
    {
     "name": "stdout",
     "output_type": "stream",
     "text": [
      "2 appears 4 times in the list.\n"
     ]
    }
   ],
   "source": [
    "#11\n",
    "def count_occurrences(lst, element):\n",
    "    return lst.count(element)\n",
    "\n",
    "\n",
    "my_list = [1, 2, 2, 3, 4, 2, 5, 2]\n",
    "element = 2\n",
    "result = count_occurrences(my_list, element)\n",
    "print(f\"{element} appears {result} times in the list.\")\n"
   ]
  },
  {
   "cell_type": "code",
   "execution_count": null,
   "id": "689b8b18",
   "metadata": {},
   "outputs": [],
   "source": []
  }
 ],
 "metadata": {
  "kernelspec": {
   "display_name": "Python 3 (ipykernel)",
   "language": "python",
   "name": "python3"
  },
  "language_info": {
   "codemirror_mode": {
    "name": "ipython",
    "version": 3
   },
   "file_extension": ".py",
   "mimetype": "text/x-python",
   "name": "python",
   "nbconvert_exporter": "python",
   "pygments_lexer": "ipython3",
   "version": "3.9.7"
  }
 },
 "nbformat": 4,
 "nbformat_minor": 5
}
