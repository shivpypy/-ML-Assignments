{
 "cells": [
  {
   "cell_type": "markdown",
   "id": "5517d680",
   "metadata": {},
   "source": [
    "1.\tWrite a Python Program to find sum of array?\n",
    "2.\tWrite a Python Program to find largest element in an array?\n",
    "3.\tWrite a Python Program for array rotation?\n",
    "4.\tWrite a Python Program to Split the array and add the first part to the end?\n",
    "5.\tWrite a Python Program to check if given array is Monotonic?\n"
   ]
  },
  {
   "cell_type": "code",
   "execution_count": 1,
   "id": "d0bd83c2",
   "metadata": {},
   "outputs": [
    {
     "name": "stdout",
     "output_type": "stream",
     "text": [
      "Sum of the array: 15\n"
     ]
    }
   ],
   "source": [
    "#1\n",
    "def sum_of_array(arr):\n",
    "    return sum(arr)\n",
    "\n",
    "arr = [1, 2, 3, 4, 5]\n",
    "result = sum_of_array(arr)\n",
    "print(\"Sum of the array:\", result)\n"
   ]
  },
  {
   "cell_type": "code",
   "execution_count": 2,
   "id": "d9f696c8",
   "metadata": {},
   "outputs": [
    {
     "name": "stdout",
     "output_type": "stream",
     "text": [
      "Largest element in the array: 89\n"
     ]
    }
   ],
   "source": [
    "#2\n",
    "def find_largest_element(arr):\n",
    "    max_element = max(arr)\n",
    "    return max_element\n",
    "\n",
    "\n",
    "arr = [12, 45, 67, 89, 34, 56]\n",
    "result = find_largest_element(arr)\n",
    "print(\"Largest element in the array:\", result)\n"
   ]
  },
  {
   "cell_type": "code",
   "execution_count": 3,
   "id": "38301f05",
   "metadata": {},
   "outputs": [
    {
     "name": "stdout",
     "output_type": "stream",
     "text": [
      "Rotated array: [3, 4, 5, 1, 2]\n"
     ]
    }
   ],
   "source": [
    "#3\n",
    "def rotate_array(arr, n):\n",
    "    n = n % len(arr)  \n",
    "    return arr[n:] + arr[:n]\n",
    "\n",
    "\n",
    "arr = [1, 2, 3, 4, 5]\n",
    "n = 2\n",
    "rotated_arr = rotate_array(arr, n)\n",
    "print(\"Rotated array:\", rotated_arr)\n"
   ]
  },
  {
   "cell_type": "code",
   "execution_count": 4,
   "id": "7acd1754",
   "metadata": {},
   "outputs": [
    {
     "name": "stdout",
     "output_type": "stream",
     "text": [
      "Array after splitting and adding to the end: [3, 4, 5, 1, 2]\n"
     ]
    }
   ],
   "source": [
    "#4\n",
    "def split_and_add_to_end(arr, split_index):\n",
    "    return arr[split_index:] + arr[:split_index]\n",
    "\n",
    "\n",
    "arr = [1, 2, 3, 4, 5]\n",
    "split_index = 2\n",
    "result = split_and_add_to_end(arr, split_index)\n",
    "print(\"Array after splitting and adding to the end:\", result)\n"
   ]
  },
  {
   "cell_type": "code",
   "execution_count": 5,
   "id": "ba3d5e35",
   "metadata": {},
   "outputs": [
    {
     "name": "stdout",
     "output_type": "stream",
     "text": [
      "Is arr1 monotonic? True\n",
      "Is arr2 monotonic? True\n",
      "Is arr3 monotonic? False\n"
     ]
    }
   ],
   "source": [
    "#5\n",
    "def is_monotonic(arr):\n",
    "    increasing = decreasing = True\n",
    "\n",
    "    for i in range(1, len(arr)):\n",
    "        if arr[i] > arr[i - 1]:\n",
    "            decreasing = False\n",
    "        elif arr[i] < arr[i - 1]:\n",
    "            increasing = False\n",
    "\n",
    "    return increasing or decreasing\n",
    "\n",
    "arr1 = [1, 2, 3, 4, 5]\n",
    "arr2 = [5, 4, 3, 2, 1]\n",
    "arr3 = [1, 2, 2, 3, 2]\n",
    "\n",
    "print(\"Is arr1 monotonic?\", is_monotonic(arr1))\n",
    "print(\"Is arr2 monotonic?\", is_monotonic(arr2))\n",
    "print(\"Is arr3 monotonic?\", is_monotonic(arr3))\n"
   ]
  },
  {
   "cell_type": "code",
   "execution_count": null,
   "id": "68884c39",
   "metadata": {},
   "outputs": [],
   "source": []
  }
 ],
 "metadata": {
  "kernelspec": {
   "display_name": "Python 3 (ipykernel)",
   "language": "python",
   "name": "python3"
  },
  "language_info": {
   "codemirror_mode": {
    "name": "ipython",
    "version": 3
   },
   "file_extension": ".py",
   "mimetype": "text/x-python",
   "name": "python",
   "nbconvert_exporter": "python",
   "pygments_lexer": "ipython3",
   "version": "3.9.7"
  }
 },
 "nbformat": 4,
 "nbformat_minor": 5
}
